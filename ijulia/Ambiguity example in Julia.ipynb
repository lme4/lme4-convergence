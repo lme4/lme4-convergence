{
 "metadata": {
  "language": "Julia",
  "name": ""
 },
 "nbformat": 3,
 "nbformat_minor": 0,
 "worksheets": [
  {
   "cells": [
    {
     "cell_type": "heading",
     "level": 1,
     "metadata": {},
     "source": [
      "Fitting the \"ambiguity\" example in Julia"
     ]
    },
    {
     "cell_type": "code",
     "collapsed": false,
     "input": [
      "using MixedModels\n",
      "versioninfo(true)"
     ],
     "language": "python",
     "metadata": {},
     "outputs": [
      {
       "output_type": "stream",
       "stream": "stdout",
       "text": [
        "Julia Version 0.3.0-prerelease+3123\n"
       ]
      },
      {
       "output_type": "stream",
       "stream": "stdout",
       "text": [
        "Commit 0a5e89c* (2014-05-20 13:53 UTC)\n",
        "Platform Info:\n",
        "  System: Linux (x86_64-pc-linux-gnu)\n",
        "  CPU: AMD Athlon(tm) II X4 635 Processor\n",
        "  WORD_SIZE: 64\n"
       ]
      },
      {
       "output_type": "stream",
       "stream": "stdout",
       "text": [
        "           Ubuntu 14.04 LTS\n",
        "  uname: Linux 3.13.0-24-generic #47-Ubuntu SMP Fri May 2 23:30:00 UTC 2014 x86_64 x86_64\n",
        "Memory: 7.796886444091797 GB (3694.8359375 MB free)\n",
        "Uptime: 65958.0 sec\n",
        "Load Avg:  "
       ]
      },
      {
       "output_type": "stream",
       "stream": "stdout",
       "text": [
        "1.6064453125  1.42919921875  1.39892578125\n",
        "AMD Athlon(tm) II X4 635 Processor"
       ]
      },
      {
       "output_type": "stream",
       "stream": "stdout",
       "text": [
        ": \n",
        "       speed         user         nice          sys         idle          irq\n",
        "#1  2900 MHz      58224 s      21251 s      16520 s    6484610 s        867 s\n",
        "#2  2900 MHz      71361 s      19819 s      15372 s    6477851 s        618 s\n",
        "#3  2900 MHz     118766 s      18500 s      19167 s    6224736 s       2223 s\n",
        "#4   800 MHz      61193 s      12228 s      18799 s    6472977 s       6419 s\n",
        "\n",
        "  BLAS: libopenblas (NO_LAPACK NO_LAPACKE DYNAMIC_ARCH NO_AFFINITY)\n",
        "  LAPACK: liblapack\n",
        "  LIBM: libopenlibm\n",
        "Environment:\n",
        "  MANDATORY_PATH = /usr/share/gconf/awesome.mandatory.path\n",
        "  PATH = /home/bates/bin:/usr/local/sbin:/usr/local/bin:/usr/sbin:/usr/bin:/sbin:/bin:/usr/games:/usr/local/games\n",
        "  TERM = dumb\n",
        "  XDG_SESSION_PATH = /org/freedesktop/DisplayManager/Session2\n",
        "  HOME = /home/bates\n",
        "  XDG_SEAT_PATH = /org/freedesktop/DisplayManager/Seat0\n",
        "  DEFAULTS_PATH = /usr/share/gconf/awesome.default.path\n",
        "\n",
        "Package Directory: /home/bates/.julia/v0.3\n"
       ]
      },
      {
       "output_type": "stream",
       "stream": "stdout",
       "text": [
        "14 required packages:\n"
       ]
      },
      {
       "output_type": "stream",
       "stream": "stdout",
       "text": [
        " - CUDA                          0.1.0\n",
        " - Cbc                           0.0.7\n",
        " - Clang                         0.0.1\n",
        " - Clp                           0.0.7\n",
        " - GLM                           0.3.2\n",
        " - GLPK                          0.2.11\n",
        " - GLPKMathProgInterface         0.1.4\n",
        " - Gadfly                        0.2.8\n",
        " - IJulia                        0.1.9\n",
        " - JuMP                          0.5.2\n",
        " - MAT                           0.2.4\n",
        " - Metis                         0.0.2\n",
        " - MixedModels                   0.3.1"
       ]
      },
      {
       "output_type": "stream",
       "stream": "stdout",
       "text": [
        "              master"
       ]
      },
      {
       "output_type": "stream",
       "stream": "stdout",
       "text": [
        "\n",
        " - RDatasets                     0.1.1\n",
        "38 additional packages:\n",
        " - ArrayViews                    0.4.4\n",
        " - BinDeps                       0.2.12\n",
        " - Blocks                        0.0.3\n",
        " - Calculus                      0.1.3\n",
        " - Codecs                        0.1.0\n",
        " - Color                         0.2.9\n",
        " - Compose                       0.1.28\n",
        " - DataArrays                    0.1.9\n",
        " - DataFrames                    0.5.4\n",
        " - DataStructures                0.2.13\n",
        " - Datetime                      0.1.3\n",
        " - Distance                      0.3.2\n",
        " - Distributions                 0.4.6\n",
        " - DualNumbers                   0.1.0\n",
        " - GZip                          0.2.12\n",
        " - Graphs                        0.4.2\n",
        " - HDF5                          0.2.23\n",
        " - Hexagons                      0.0.1\n",
        " - Iterators                     0.1.2\n",
        " - JSON                          0.3.5\n",
        " - Loess                         0.0.2\n",
        " - MUMPS                         0.0.1+             "
       ]
      },
      {
       "output_type": "stream",
       "stream": "stdout",
       "text": [
        "master"
       ]
      },
      {
       "output_type": "stream",
       "stream": "stdout",
       "text": [
        " (dirty"
       ]
      },
      {
       "output_type": "stream",
       "stream": "stdout",
       "text": [
        ")\n",
        " - MUMPS1                        0.0.0-             master"
       ]
      },
      {
       "output_type": "stream",
       "stream": "stdout",
       "text": [
        " (unregistered, dirty)\n",
        " - MathProgBase                  0.1.6\n",
        " - NLopt                         0.0.3\n",
        " - Nettle                        0.1.4\n",
        " - NumericExtensions             0.6.2\n",
        " - NumericFuns                   0.2.3\n",
        " - PDMats                        0.1.2\n",
        " - REPLCompletions               0.0.0\n",
        " - Reexport                      0.0.1\n",
        " - ReverseDiffSparse             0.1.0\n",
        " - SortingAlgorithms             0.0.1\n",
        " - StatsBase                     0.3.12\n",
        " - SuperLU                       0.0.0-             master"
       ]
      },
      {
       "output_type": "stream",
       "stream": "stdout",
       "text": [
        " (unregistered, dirty)\n",
        " - URIParser                     0.0.2\n",
        " - ZMQ                           0.1.11\n",
        " - Zlib                          0.1.7\n"
       ]
      }
     ],
     "prompt_number": 1
    },
    {
     "cell_type": "code",
     "collapsed": false,
     "input": [
      "mm0 = DataFrame(read_rda(\"../mm0.RData\")[\"mm0\"])"
     ],
     "language": "python",
     "metadata": {},
     "outputs": [
      {
       "html": [
        "<table><tr><th></th><th>mean</th><th>sdiff</th><th>ambiguity</th><th>subj</th><th>item</th></tr><tr><th>1</th><td>-2.8372</td><td>2045.558659539001</td><td>unambig</td><td>01</td><td>33</td></tr><tr><th>2</th><td>-1.4067</td><td>2045.558659539001</td><td>unambig</td><td>01</td><td>33</td></tr><tr><th>3</th><td>-3.0055</td><td>2045.558659539001</td><td>unambig</td><td>01</td><td>33</td></tr><tr><th>4</th><td>-4.0167</td><td>2045.558659539001</td><td>unambig</td><td>01</td><td>33</td></tr><tr><th>5</th><td>-1.5048</td><td>-1042.441340460999</td><td>ambig</td><td>01</td><td>56</td></tr><tr><th>6</th><td>-2.502</td><td>-1042.441340460999</td><td>ambig</td><td>01</td><td>56</td></tr><tr><th>7</th><td>-1.2454</td><td>-1042.441340460999</td><td>ambig</td><td>01</td><td>56</td></tr><tr><th>8</th><td>-3.0896</td><td>-1042.441340460999</td><td>ambig</td><td>01</td><td>56</td></tr><tr><th>9</th><td>-8.1918</td><td>1957.558659539001</td><td>unambig</td><td>01</td><td>20</td></tr><tr><th>10</th><td>-8.1806</td><td>1957.558659539001</td><td>unambig</td><td>01</td><td>20</td></tr><tr><th>11</th><td>-8.5901</td><td>1957.558659539001</td><td>unambig</td><td>01</td><td>20</td></tr><tr><th>12</th><td>-7.8089</td><td>1957.558659539001</td><td>unambig</td><td>01</td><td>20</td></tr><tr><th>13</th><td>2.8722</td><td>-2042.441340460999</td><td>unambig</td><td>01</td><td>2</td></tr><tr><th>14</th><td>1.6689</td><td>-2042.441340460999</td><td>unambig</td><td>01</td><td>2</td></tr><tr><th>15</th><td>-0.70684</td><td>-2042.441340460999</td><td>unambig</td><td>01</td><td>2</td></tr><tr><th>16</th><td>-0.17952</td><td>-2042.441340460999</td><td>unambig</td><td>01</td><td>2</td></tr><tr><th>17</th><td>-6.5411</td><td>-1053.441340460999</td><td>ambig</td><td>01</td><td>13</td></tr><tr><th>18</th><td>-9.5143</td><td>-1053.441340460999</td><td>ambig</td><td>01</td><td>13</td></tr><tr><th>19</th><td>-2.9382</td><td>-1053.441340460999</td><td>ambig</td><td>01</td><td>13</td></tr><tr><th>20</th><td>-3.5104</td><td>-1053.441340460999</td><td>ambig</td><td>01</td><td>13</td></tr><tr><th>21</th><td>-4.7557</td><td>1946.558659539001</td><td>unambig</td><td>01</td><td>46</td></tr><tr><th>22</th><td>-5.1288</td><td>1946.558659539001</td><td>unambig</td><td>01</td><td>46</td></tr><tr><th>23</th><td>-2.2103</td><td>1946.558659539001</td><td>unambig</td><td>01</td><td>46</td></tr><tr><th>24</th><td>-4.1751</td><td>1946.558659539001</td><td>unambig</td><td>01</td><td>46</td></tr><tr><th>25</th><td>-1.2201</td><td>2045.558659539001</td><td>unambig</td><td>01</td><td>32</td></tr><tr><th>26</th><td>-0.63251</td><td>2045.558659539001</td><td>unambig</td><td>01</td><td>32</td></tr><tr><th>27</th><td>-4.0742</td><td>2045.558659539001</td><td>unambig</td><td>01</td><td>32</td></tr><tr><th>28</th><td>-3.6618</td><td>2045.558659539001</td><td>unambig</td><td>01</td><td>32</td></tr><tr><th>29</th><td>-2.3575</td><td>-943.4413404609991</td><td>ambig</td><td>01</td><td>31</td></tr><tr><th>30</th><td>-3.8526</td><td>-943.4413404609991</td><td>ambig</td><td>01</td><td>31</td></tr><tr><th>&vellip;</th><td>&vellip;</td><td>&vellip;</td><td>&vellip;</td><td>&vellip;</td><td>&vellip;</td></tr></table>"
       ],
       "metadata": {},
       "output_type": "pyout",
       "prompt_number": 3,
       "text": [
        "69588x5 DataFrame\n",
        "|-------|---------|----------|-----------|------|------|\n",
        "| Row # | mean    | sdiff    | ambiguity | subj | item |\n",
        "| 1     | -2.8372 | 2045.56  | \"unambig\" | \"01\" | \"33\" |\n",
        "| 2     | -1.4067 | 2045.56  | \"unambig\" | \"01\" | \"33\" |\n",
        "| 3     | -3.0055 | 2045.56  | \"unambig\" | \"01\" | \"33\" |\n",
        "| 4     | -4.0167 | 2045.56  | \"unambig\" | \"01\" | \"33\" |\n",
        "| 5     | -1.5048 | -1042.44 | \"ambig\"   | \"01\" | \"56\" |\n",
        "| 6     | -2.502  | -1042.44 | \"ambig\"   | \"01\" | \"56\" |\n",
        "| 7     | -1.2454 | -1042.44 | \"ambig\"   | \"01\" | \"56\" |\n",
        "| 8     | -3.0896 | -1042.44 | \"ambig\"   | \"01\" | \"56\" |\n",
        "| 9     | -8.1918 | 1957.56  | \"unambig\" | \"01\" | \"20\" |\n",
        "| 10    | -8.1806 | 1957.56  | \"unambig\" | \"01\" | \"20\" |\n",
        "| 11    | -8.5901 | 1957.56  | \"unambig\" | \"01\" | \"20\" |\n",
        "\u22ee\n",
        "| 69577 | 3.2495  | -1954.44 | \"unambig\" | \"39\" | \"7\"  |\n",
        "| 69578 | 5.3462  | -1954.44 | \"unambig\" | \"39\" | \"7\"  |\n",
        "| 69579 | 3.8694  | -1954.44 | \"unambig\" | \"39\" | \"7\"  |\n",
        "| 69580 | 5.6379  | -1954.44 | \"unambig\" | \"39\" | \"7\"  |\n",
        "| 69581 | 4.1457  | 2056.56  | \"unambig\" | \"39\" | \"50\" |\n",
        "| 69582 | 0.52873 | 2056.56  | \"unambig\" | \"39\" | \"50\" |\n",
        "| 69583 | 2.523   | 2056.56  | \"unambig\" | \"39\" | \"50\" |\n",
        "| 69584 | 3.5833  | 2056.56  | \"unambig\" | \"39\" | \"50\" |\n",
        "| 69585 | 1.3688  | 2056.56  | \"unambig\" | \"39\" | \"46\" |\n",
        "| 69586 | 2.638   | 2056.56  | \"unambig\" | \"39\" | \"46\" |\n",
        "| 69587 | 2.408   | 2056.56  | \"unambig\" | \"39\" | \"46\" |\n",
        "| 69588 | 3.4683  | 2056.56  | \"unambig\" | \"39\" | \"46\" |"
       ]
      }
     ],
     "prompt_number": 3
    },
    {
     "cell_type": "markdown",
     "metadata": {},
     "source": [
      "It appears that the `sdiff` column is already centered."
     ]
    },
    {
     "cell_type": "code",
     "collapsed": false,
     "input": [
      "mean(mm0[:sdiff])"
     ],
     "language": "python",
     "metadata": {},
     "outputs": [
      {
       "metadata": {},
       "output_type": "pyout",
       "prompt_number": 4,
       "text": [
        "1.4144035843229623e-13"
       ]
      }
     ],
     "prompt_number": 4
    },
    {
     "cell_type": "code",
     "collapsed": false,
     "input": [
      "lm0 = fit(lmm(mean ~ ambiguity * sdiff + (sdiff|item) + (sdiff|subj), mm0),true)"
     ],
     "language": "python",
     "metadata": {},
     "outputs": [
      {
       "output_type": "stream",
       "stream": "stdout",
       "text": [
        "f_1: 397284.05776, [1"
       ]
      },
      {
       "output_type": "stream",
       "stream": "stdout",
       "text": [
        ".0,0.0,1.0,1.0,0.0,1.0]\n",
        "f_2: 397350.19041, [1.75,0.0,1.0,1.0,0.0,1.0]\n",
        "f_3: 397284.98471, ["
       ]
      },
      {
       "output_type": "stream",
       "stream": "stdout",
       "text": [
        "1.0,1.0,1.0,1.0,0.0,1.0]\n",
        "f_4: 397350.67281, [1.0,0.0,1.75,1.0,0.0,1.0]\n",
        "f_5: 397323.34288, ["
       ]
      },
      {
       "output_type": "stream",
       "stream": "stdout",
       "text": [
        "1.0,0.0,1.0,1.75,0.0,1.0]\n",
        "f_6: 397286.9838, [1.0,0.0,1.0,1.0,1.0,1.0]\n",
        "f_7: 397325.1724, ["
       ]
      },
      {
       "output_type": "stream",
       "stream": "stdout",
       "text": [
        "1.0,0.0,1.0,1.0,0.0,1.75]\n",
        "f_8: 397130.63492, [0.25,0.0,1.0,1.0,0.0,1.0]\n",
        "f_9: 397284.9847, ["
       ]
      },
      {
       "output_type": "stream",
       "stream": "stdout",
       "text": [
        "1.0,-1.0,1.0,1.0,0.0,1.0]\n",
        "f_10: 397120.03245, [1.0,0.0,0.25,1.0,0.0,1.0]\n",
        "f_11: 397223.77895, ["
       ]
      },
      {
       "output_type": "stream",
       "stream": "stdout",
       "text": [
        "1.0,0.0,1.0,0.25,0.0,1.0]\n",
        "f_12: 397286.98329, [1.0,0.0,1.0,1.0,-1.0,1.0]\n",
        "f_13: 397183.37728, ["
       ]
      },
      {
       "output_type": "stream",
       "stream": "stdout",
       "text": [
        "1.0,0.0,1.0,1.0,0.0,0.25]\n",
        "f_14: 396140.41478, [0.401307,-1.56017e-8,0.0,0.819552,-1.01256e-6,0.66984]\n",
        "f_15: 400653.42336, ["
       ]
      },
      {
       "output_type": "stream",
       "stream": "stdout",
       "text": [
        "0.0,-8.81177e-8,0.0,0.0,-5.71644e-6,0.0]\n",
        "f_16: 396118.91063, [0.166608,2.39985e-8,0.0,1.50128,1.5504e-6,0.876404]\n",
        "f_17: 396248.11692, ["
       ]
      },
      {
       "output_type": "stream",
       "stream": "stdout",
       "text": [
        "0.593565,5.97111e-8,0.0,1.03623,3.87485e-6,1.2813]\n",
        "f_18: 396159.71274, [0.358697,-1.48434e-8,0.0,1.56169,-9.6566e-7,0.560055]\n",
        "f_19: 396139.83951, ["
       ]
      },
      {
       "output_type": "stream",
       "stream": "stdout",
       "text": [
        "0.183269,3.52101e-8,0.0,1.6514,2.27709e-6,0.964045]\n",
        "f_20: 396312.09266, [0.0304974,-4.94473e-8,0.0,1.56489,-3.23502e-6,0.98858]\n",
        "f_21: 396770.40133, ["
       ]
      },
      {
       "output_type": "stream",
       "stream": "stdout",
       "text": [
        "0.205954,2.28655e-8,0.0472119,1.47761,0.0472134,0.88224]\n",
        "f_22: 396121.35051, [0.172467,9.89766e-8,0.0,1.50141,-0.0996898,0.875829]\n",
        "f_23: 397380.98095, ["
       ]
      },
      {
       "output_type": "stream",
       "stream": "stdout",
       "text": [
        "0.168518,-0.0998477,0.000419115,1.50428,-0.000447494,0.874362]\n",
        "f_24: 397381.2393, [0.166236,0.099898,0.0,1.5018,-0.000361349,0.87309]\n",
        "f_25: 396796.2741, ["
       ]
      },
      {
       "output_type": "stream",
       "stream": "stdout",
       "text": [
        "0.172151,2.24036e-8,0.06646,1.46796,1.44736e-6,0.884619]\n",
        "f_26: 396649.15406, [0.145039,-0.000282967,0.0,1.44364,-0.012724,0.918203]\n",
        "f_27: 396796.3106, ["
       ]
      },
      {
       "output_type": "stream",
       "stream": "stdout",
       "text": [
        "0.213567,2.26463e-8,0.0563467,1.51529,1.46304e-6,0.883369]\n",
        "f_28: 396854.30134, [0.125555,0.00119167,0.0,1.53198,-0.00173898,0.821682]\n",
        "f_29: 396237.45168, ["
       ]
      },
      {
       "output_type": "stream",
       "stream": "stdout",
       "text": [
        "0.199199,6.29861e-5,0.0,1.49462,-0.0158415,0.863813]\n",
        "f_30: 396121.75016, [0.176213,2.20564e-8,0.0,1.5043,1.4246e-6,0.860587]\n",
        "f_31: 396798.72135, ["
       ]
      },
      {
       "output_type": "stream",
       "stream": "stdout",
       "text": [
        "0.169598,0.000750839,0.0,1.51558,0.00942447,0.88578]\n",
        "f_32: 396412.79667, [0.159808,-9.58204e-5,0.00266976,1.50277,-0.000498116,0.875685]\n",
        "f_33: 396552.07788, ["
       ]
      },
      {
       "output_type": "stream",
       "stream": "stdout",
       "text": [
        "0.168516,-0.00019704,0.0,1.49432,-0.0014433,0.874669]\n",
        "f_34: 396523.30691, [0.167163,2.3839e-8,0.006646,1.49795,1.5401e-6,0.877226]\n",
        "f_35: 396406.2633, ["
       ]
      },
      {
       "output_type": "stream",
       "stream": "stdout",
       "text": [
        "0.16825,0.000113624,0.0,1.5043,-0.00865248,0.877924]\n",
        "f_36: 396150.54884, [0.164452,-2.82751e-5,0.0,1.49551,-0.001271,0.880584]\n",
        "f_37: 396208.22104, ["
       ]
      },
      {
       "output_type": "stream",
       "stream": "stdout",
       "text": [
        "0.166661,-4.97668e-5,0.0,1.50104,0.00993012,0.877265]\n",
        "f_38: 397109.66901, [0.166646,-0.00998977,0.0,1.50122,3.78404e-5,0.876736]\n",
        "f_39: 397107.64659, ["
       ]
      },
      {
       "output_type": "stream",
       "stream": "stdout",
       "text": [
        "0.166546,0.00980037,0.0,1.50223,0.0013224,0.87697]\n",
        "f_40: 396759.01353, [0.167111,-0.000578639,0.0,1.50425,0.00255733,0.875341]\n",
        "f_41: 396281.69791, ["
       ]
      },
      {
       "output_type": "stream",
       "stream": "stdout",
       "text": [
        "0.167321,2.3978e-8,0.000855241,1.50149,1.54908e-6,0.87651]\n",
        "f_42: 396123.53195, [0.165512,9.82553e-6,0.0,1.50072,-0.000102135,0.877819]\n",
        "f_43: 396162.84007, ["
       ]
      },
      {
       "output_type": "stream",
       "stream": "stdout",
       "text": [
        "0.166799,3.19256e-5,0.0,1.50111,-0.000196424,0.875715]\n",
        "f_44: 396175.96209, [0.166982,-3.86235e-5,0.0,1.50116,0.000251763,0.877016]\n",
        "f_45: 396151.34969, ["
       ]
      },
      {
       "output_type": "stream",
       "stream": "stdout",
       "text": [
        "0.166237,-2.86171e-5,0.0,1.50131,-1.37096e-5,0.876421]\n",
        "f_46: 396606.22739, [0.16661,-0.000244985,0.0,1.50125,-3.14708e-5,0.87639]\n",
        "f_47: 396615.77322, ["
       ]
      },
      {
       "output_type": "stream",
       "stream": "stdout",
       "text": [
        "0.166605,0.000249314,0.0,1.50129,1.08636e-5,0.87641]\n",
        "f_48: 396118.87982, [0.166592,-1.112e-6,0.0,1.50125,8.80907e-5,0.876389]\n",
        "f_49: 396125.84431, ["
       ]
      },
      {
       "output_type": "stream",
       "stream": "stdout",
       "text": [
        "0.166602,-1.33321e-5,0.0,1.50131,0.000132475,0.876391]\n",
        "f_50: 396118.96425, [0.166576,-2.248e-6,0.0,1.50122,0.000174631,0.876374]\n",
        "f_51: 396121.71424, ["
       ]
      },
      {
       "output_type": "stream",
       "stream": "stdout",
       "text": [
        "0.166586,-8.75047e-6,0.0,1.50122,0.000104894,0.876457]\n",
        "f_52: 396119.11801, [0.166611,-3.0759e-6,0.0,1.50118,7.27407e-5,0.876372]\n",
        "f_53: 395994.74456, ["
       ]
      },
      {
       "output_type": "stream",
       "stream": "stdout",
       "text": [
        "0.166558,-5.43771e-7,5.63154e-5,1.50123,5.24359e-5,0.876371]\n",
        "f_54: 396114.27077, [0.166533,1.27605e-6,0.000202806,1.50122,3.53732e-5,0.87636]\n",
        "f_55: 395996.71576, ["
       ]
      },
      {
       "output_type": "stream",
       "stream": "stdout",
       "text": [
        "0.166547,1.097e-5,5.7437e-5,1.50117,2.54641e-6,0.876392]\n",
        "f_56: 395982.90418, [0.166507,5.1231e-6,3.49702e-5,1.50123,4.51178e-5,0.876321]\n",
        "f_57: 396134.48398, ["
       ]
      },
      {
       "output_type": "stream",
       "stream": "stdout",
       "text": [
        "0.166503,1.82164e-5,0.0,1.50117,5.74864e-5,0.876284]\n",
        "f_58: 395995.38531, [0.166504,5.50964e-6,5.67414e-5,1.50127,-2.89385e-6,0.876283]\n",
        "f_59: 395988.17405, ["
       ]
      },
      {
       "output_type": "stream",
       "stream": "stdout",
       "text": [
        "0.166496,-7.53421e-6,4.85699e-5,1.50125,7.18899e-5,0.876336]\n",
        "f_60: 395983.30948, [0.166515,5.83335e-6,3.40435e-5,1.50122,3.87171e-5,0.876305]\n",
        "f_61: 395983.38661, ["
       ]
      },
      {
       "output_type": "stream",
       "stream": "stdout",
       "text": [
        "0.166517,4.69369e-6,4.08285e-5,1.50123,2.71342e-5,0.876325]\n",
        "f_62: 395983.04671, [0.1665,4.17429e-6,3.39868e-5,1.50123,4.34635e-5,0.876324]\n",
        "f_63: 395984.66284, ["
       ]
      },
      {
       "output_type": "stream",
       "stream": "stdout",
       "text": [
        "0.166507,1.2303e-5,3.96753e-5,1.50123,4.76587e-5,0.876319]\n",
        "f_64: 395986.04108, [0.166511,1.40179e-5,3.36964e-5,1.50123,4.38701e-5,0.876324]\n",
        "f_65: 395982.83132, ["
       ]
      },
      {
       "output_type": "stream",
       "stream": "stdout",
       "text": [
        "0.16651,-2.84095e-6,3.38259e-5,1.50123,4.71697e-5,0.876319]\n",
        "f_66: 395985.34762, [0.166513,-1.1925e-5,3.25569e-5,1.50123,4.42195e-5,0.876321]\n",
        "f_67: 395983.28641, ["
       ]
      },
      {
       "output_type": "stream",
       "stream": "stdout",
       "text": [
        "0.166509,-4.64687e-6,4.09589e-5,1.50123,4.89322e-5,0.876317]\n",
        "f_68: 395992.40238, [0.166508,-3.0435e-6,2.55122e-5,1.50123,4.77501e-5,0.876317]\n",
        "f_69: 395982.37807, ["
       ]
      },
      {
       "output_type": "stream",
       "stream": "stdout",
       "text": [
        "0.166515,-8.50608e-7,3.83368e-5,1.50124,4.61926e-5,0.876321]\n",
        "f_70: 395982.29996, [0.166521,-9.97624e-7,3.5804e-5,1.50123,4.79465e-5,0.876324]\n",
        "f_71: 395982.30107, ["
       ]
      },
      {
       "output_type": "stream",
       "stream": "stdout",
       "text": [
        "0.16652,1.00684e-6,3.6216e-5,1.50123,4.82638e-5,0.876331]\n",
        "f_72: 395982.27789, [0.166523,8.02649e-7,3.6601e-5,1.50123,4.74871e-5,0.876321]\n",
        "f_73: 395982.30192, ["
       ]
      },
      {
       "output_type": "stream",
       "stream": "stdout",
       "text": [
        "0.166524,6.68874e-7,3.60286e-5,1.50123,4.8919e-5,0.876323]\n",
        "f_74: 395982.29116, [0.166524,6.4253e-7,3.61594e-5,1.50123,4.96297e-5,0.876323]\n",
        "f_75: 395982.25381, ["
       ]
      },
      {
       "output_type": "stream",
       "stream": "stdout",
       "text": [
        "0.166524,-1.84093e-7,3.69734e-5,1.50123,4.74636e-5,0.876321]\n",
        "f_76: 395982.2484, [0.166524,-5.53068e-7,3.66799e-5,1.50123,4.63081e-5,0.876321]\n",
        "f_77: 395982.25015, ["
       ]
      },
      {
       "output_type": "stream",
       "stream": "stdout",
       "text": [
        "0.166523,-5.30195e-7,3.6956e-5,1.50123,4.61456e-5,0.876321]\n",
        "f_78: 395982.25617, [0.166524,-3.87066e-7,3.63972e-5,1.50123,4.56998e-5,0.876321]\n",
        "f_79: 395982.25238, ["
       ]
      },
      {
       "output_type": "stream",
       "stream": "stdout",
       "text": [
        "0.166524,-4.35604e-7,3.70035e-5,1.50123,4.57237e-5,0.876322]\n",
        "f_80: 395982.25218, [0.166523,-2.46806e-7,3.65535e-5,1.50123,4.59441e-5,0.87632]\n",
        "f_81: 395982.25082, ["
       ]
      },
      {
       "output_type": "stream",
       "stream": "stdout",
       "text": [
        "0.166523,-1.96421e-7,3.67971e-5,1.50123,4.55019e-5,0.87632]\n",
        "f_82: 395982.25532, [0.166524,-1.21989e-6,3.65246e-5,1.50123,4.6238e-5,0.876321]\n",
        "f_83: 395982.24859, ["
       ]
      },
      {
       "output_type": "stream",
       "stream": "stdout",
       "text": [
        "0.166524,-7.47725e-7,3.6674e-5,1.50123,4.6963e-5,0.876322]\n",
        "f_84: 395982.25411, [0.166524,-8.60973e-7,3.64365e-5,1.50123,4.74333e-5,0.876321]\n",
        "f_85: 395982.24843, ["
       ]
      },
      {
       "output_type": "stream",
       "stream": "stdout",
       "text": [
        "0.166524,-5.78334e-7,3.67822e-5,1.50123,4.68949e-5,0.876321]\n",
        "SUCCESS\n"
       ]
      },
      {
       "metadata": {},
       "output_type": "pyout",
       "prompt_number": 5,
       "text": [
        "Linear mixed model fit by maximum likelihood\n",
        " logLik: -197991.124215, deviance: 395982.248430\n",
        "\n",
        " Variance components:\n",
        "                Variance    Std.Dev.\n",
        " item           0.470864    0.686195\n",
        "               0.000000    0.000152\n",
        " subj          38.267833    6.186100\n",
        "              13.039647    3.611045\n",
        " Residual      16.980082    4.120689\n",
        " Number of obs: 69588; levels of grouping factors: 60, 37\n",
        "\n",
        "  Fixed-effects parameters:\n",
        "         Estimate  Std.Error      z value\n",
        "[1]       1.15876    1.02108      1.13484\n",
        "[2]      0.496996  0.0312451      15.9063\n",
        "[3]  -0.000387593   0.593657 -0.000652892\n",
        "[4]   0.000381613 2.46849e-5      15.4594\n"
       ]
      }
     ],
     "prompt_number": 5
    },
    {
     "cell_type": "markdown",
     "metadata": {},
     "source": [
      "One of the problems here is that the range of values of `sdiff` is so large that the variance of the random slopes converges to a very small value, making it difficult to assess convergence."
     ]
    },
    {
     "cell_type": "code",
     "collapsed": false,
     "input": [
      "extrema(mm0[:sdiff])"
     ],
     "language": "python",
     "metadata": {},
     "outputs": [
      {
       "metadata": {},
       "output_type": "pyout",
       "prompt_number": 6,
       "text": [
        "(-2053.441340460999,2056.558659539001)"
       ]
      }
     ],
     "prompt_number": 6
    },
    {
     "cell_type": "code",
     "collapsed": false,
     "input": [
      "mm0[:ssdiff] = mm0[:sdiff]/1000."
     ],
     "language": "python",
     "metadata": {},
     "outputs": [
      {
       "metadata": {},
       "output_type": "pyout",
       "prompt_number": 7,
       "text": [
        "69588-element DataArray{Float64,1}:\n",
        "  2.04556\n",
        "  2.04556\n",
        "  2.04556\n",
        "  2.04556\n",
        " -1.04244\n",
        " -1.04244\n",
        " -1.04244\n",
        " -1.04244\n",
        "  1.95756\n",
        "  1.95756\n",
        "  1.95756\n",
        "  1.95756\n",
        " -2.04244\n",
        "  \u22ee      \n",
        " -1.95444\n",
        " -1.95444\n",
        " -1.95444\n",
        " -1.95444\n",
        "  2.05656\n",
        "  2.05656\n",
        "  2.05656\n",
        "  2.05656\n",
        "  2.05656\n",
        "  2.05656\n",
        "  2.05656\n",
        "  2.05656"
       ]
      }
     ],
     "prompt_number": 7
    },
    {
     "cell_type": "code",
     "collapsed": false,
     "input": [
      "lm1 = fit(lmm(mean ~ ambiguity*ssdiff+(ssdiff|item)+(ssdiff|subj),mm0))"
     ],
     "language": "python",
     "metadata": {},
     "outputs": [
      {
       "metadata": {},
       "output_type": "pyout",
       "prompt_number": 8,
       "text": [
        "Linear mixed model fit by maximum likelihood\n",
        " logLik: -197584.418259, deviance: 395168.836519\n",
        "\n",
        " Variance components:\n",
        "                Variance    Std.Dev.\n",
        " item           0.176411    0.420013\n",
        "               0.022679    0.150594\n",
        " subj           1.233113    1.110456\n",
        "               0.023150    0.152152\n",
        " Residual      17.006708    4.123919\n",
        " Number of obs: 69588; levels of grouping factors: 60, 37\n",
        "\n",
        "  Fixed-effects parameters:\n",
        "      Estimate Std.Error  z value\n",
        "[1]    1.15861  0.191523  6.04943\n",
        "[2]   0.497135 0.0312694  15.8985\n",
        "[3]  -0.387581 0.0396038 -9.78645\n",
        "[4]   0.381601 0.0247042  15.4468\n"
       ]
      }
     ],
     "prompt_number": 8
    },
    {
     "cell_type": "code",
     "collapsed": false,
     "input": [
      "names(lm1)"
     ],
     "language": "python",
     "metadata": {},
     "outputs": [
      {
       "metadata": {},
       "output_type": "pyout",
       "prompt_number": 9,
       "text": [
        "18-element Array{Symbol,1}:\n",
        " :L        \n",
        " :LambdatZt\n",
        " :RX       \n",
        " :X        \n",
        " :Xs       \n",
        " :XtX      \n",
        " :Xty      \n",
        " :beta     \n",
        " :fnms     \n",
        " :inds     \n",
        " :lambda   \n",
        " :mu       \n",
        " :perm     \n",
        " :pvec     \n",
        " :u        \n",
        " :y        \n",
        " :REML     \n",
        " :fit      "
       ]
      }
     ],
     "prompt_number": 9
    },
    {
     "cell_type": "code",
     "collapsed": false,
     "input": [
      "lm1.lambda"
     ],
     "language": "python",
     "metadata": {},
     "outputs": [
      {
       "metadata": {},
       "output_type": "pyout",
       "prompt_number": 10,
       "text": [
        "2-element Array{Array{Float64,2},1}:\n",
        " 2x2 Array{Float64,2}:\n",
        "  0.101847     0.0      \n",
        " -0.000448034  0.0365172\n",
        " 2x2 Array{Float64,2}:\n",
        "  0.268964   0.0     \n",
        " -0.0128854  0.036895      "
       ]
      }
     ],
     "prompt_number": 10
    },
    {
     "cell_type": "code",
     "collapsed": false,
     "input": [
      "cor(lm1)"
     ],
     "language": "python",
     "metadata": {},
     "outputs": [
      {
       "metadata": {},
       "output_type": "pyout",
       "prompt_number": 11,
       "text": [
        "2-element Array{Array{Float64,2},1}:\n",
        " 2x2 Array{Float64,2}:\n",
        "  1.0        -0.0122682\n",
        " -0.0122682   1.0      \n",
        " 2x2 Array{Float64,2}:\n",
        "  1.0       -0.329716\n",
        " -0.329716   1.0         "
       ]
      }
     ],
     "prompt_number": 11
    },
    {
     "cell_type": "markdown",
     "metadata": {},
     "source": [
      "The `show` method for this type of linear mixed model is not complete in that it does not give the estimated correlation of the vector-valued random effects.  These are given by the `cor` method above."
     ]
    }
   ],
   "metadata": {}
  }
 ]
}